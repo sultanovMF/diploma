{
 "cells": [
  {
   "cell_type": "code",
   "execution_count": null,
   "metadata": {},
   "outputs": [],
   "source": [
    "%pip install numpy\n",
    "%pip install h5py"
   ]
  },
  {
   "cell_type": "code",
   "execution_count": null,
   "metadata": {},
   "outputs": [],
   "source": [
    "import numpy as np\n",
    "import h5py"
   ]
  },
  {
   "cell_type": "code",
   "execution_count": null,
   "metadata": {},
   "outputs": [],
   "source": [
    "np.set_printoptions(precision=6)\n",
    "with h5py.File('example.h5', 'r') as f:\n",
    "   data = f['tensor']\n",
    "   #print(data[:])\n",
    "\n",
    "   arr = np.reshape(data, (3, 3, 3), order='F')\n",
    "   print(arr)\n",
    "   # data = np.reshape(f['tensor'], (3, 3, 3))\n",
    "\n",
    "   # print(data)\n",
    "   #arr = data"
   ]
  }
 ],
 "metadata": {
  "language_info": {
   "name": "python"
  }
 },
 "nbformat": 4,
 "nbformat_minor": 2
}
